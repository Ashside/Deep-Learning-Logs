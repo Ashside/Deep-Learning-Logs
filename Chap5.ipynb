{
 "cells": [
  {
   "cell_type": "code",
   "id": "initial_id",
   "metadata": {
    "collapsed": true,
    "ExecuteTime": {
     "end_time": "2025-08-12T15:28:13.180760Z",
     "start_time": "2025-08-12T15:28:13.160379Z"
    }
   },
   "source": [
    "import torch\n",
    "from torch import nn\n",
    "from torch.nn import functional as F\n",
    "\n",
    "net = nn.Sequential(\n",
    "    nn.Linear(20, 256),\n",
    "    nn.ReLU(),\n",
    "    nn.Linear(256, 10)\n",
    ")\n",
    "\n",
    "X = torch.rand(2, 20)\n",
    "\n",
    "print(net(X))"
   ],
   "outputs": [
    {
     "name": "stdout",
     "output_type": "stream",
     "text": [
      "tensor([[-0.0277, -0.2021,  0.1182,  0.0136, -0.0244, -0.0506,  0.0403,  0.0109,\n",
      "         -0.2502, -0.0485],\n",
      "        [ 0.0291, -0.1190,  0.0490, -0.0420,  0.0313,  0.0423,  0.0707,  0.0024,\n",
      "         -0.1651,  0.0424]], grad_fn=<AddmmBackward0>)\n"
     ]
    }
   ],
   "execution_count": 11
  },
  {
   "metadata": {
    "ExecuteTime": {
     "end_time": "2025-08-12T15:55:21.163745Z",
     "start_time": "2025-08-12T15:55:21.149910Z"
    }
   },
   "cell_type": "code",
   "source": [
    "class MLP(nn.Module):\n",
    "    def __init__(self):\n",
    "        super().__init__()\n",
    "        self.hidden = nn.Linear(20, 256)\n",
    "        self.out = nn.Linear(256, 10)\n",
    "\n",
    "    def forward(self, x):\n",
    "        return self.out(F.relu(self.hidden(x)))"
   ],
   "id": "5c0e2a61fd506ba1",
   "outputs": [],
   "execution_count": 12
  },
  {
   "metadata": {
    "ExecuteTime": {
     "end_time": "2025-08-12T15:59:22.006705Z",
     "start_time": "2025-08-12T15:59:21.994382Z"
    }
   },
   "cell_type": "code",
   "source": [
    "net  = MLP()\n",
    "print(net(X))"
   ],
   "id": "d848ada027317fcb",
   "outputs": [
    {
     "name": "stdout",
     "output_type": "stream",
     "text": [
      "tensor([[-0.1515, -0.0734, -0.0552, -0.1136, -0.1307,  0.1394,  0.2825,  0.0846,\n",
      "          0.2862, -0.1795],\n",
      "        [-0.0513, -0.1965, -0.1761, -0.0359, -0.2581,  0.0568,  0.2420, -0.0529,\n",
      "          0.2803, -0.1158]], grad_fn=<AddmmBackward0>)\n"
     ]
    }
   ],
   "execution_count": 14
  },
  {
   "metadata": {
    "ExecuteTime": {
     "end_time": "2025-08-12T16:07:39.048990Z",
     "start_time": "2025-08-12T16:07:39.035622Z"
    }
   },
   "cell_type": "code",
   "source": [
    "class MySequential(nn.Module):\n",
    "    def __init__(self, *args):\n",
    "        super().__init__()\n",
    "        for idx, module in enumerate(args):\n",
    "            self.add_module(str(idx), module)\n",
    "\n",
    "    def forward(self, x):\n",
    "        for block in self.children():\n",
    "            x = block(x)\n",
    "        return x\n"
   ],
   "id": "62e39ced114305ff",
   "outputs": [],
   "execution_count": 15
  },
  {
   "metadata": {
    "ExecuteTime": {
     "end_time": "2025-08-12T16:09:22.611038Z",
     "start_time": "2025-08-12T16:09:22.598495Z"
    }
   },
   "cell_type": "code",
   "source": [
    "net = MySequential(\n",
    "    nn.Linear(20, 256),\n",
    "    nn.ReLU(),\n",
    "    nn.Linear(256, 10)\n",
    ")\n",
    "print(net(X))"
   ],
   "id": "5055c215bbefc116",
   "outputs": [
    {
     "name": "stdout",
     "output_type": "stream",
     "text": [
      "tensor([[-0.0053,  0.0406,  0.0556,  0.1047,  0.1005, -0.0892,  0.0493, -0.1996,\n",
      "          0.0351, -0.1441],\n",
      "        [-0.0653, -0.0378,  0.0875,  0.1515,  0.1838, -0.1095,  0.0607, -0.1725,\n",
      "          0.1080, -0.2009]], grad_fn=<AddmmBackward0>)\n"
     ]
    }
   ],
   "execution_count": 17
  },
  {
   "metadata": {
    "ExecuteTime": {
     "end_time": "2025-08-12T16:21:40.040354Z",
     "start_time": "2025-08-12T16:21:40.027460Z"
    }
   },
   "cell_type": "code",
   "source": [
    "class FixedHiddenMLP(nn.Module):\n",
    "    def __init__(self):\n",
    "        super().__init__()\n",
    "        self.rand_weight = torch.rand((20, 20),requires_grad=False)\n",
    "        self.linear = nn.Linear(20, 20)\n",
    "    def forward(self, x):\n",
    "        x = self.linear(x)\n",
    "        x = F.relu(torch.mm(x, self.rand_weight) + 1)\n",
    "        x = self.linear(x)\n",
    "        while x.abs().sum() > 1:\n",
    "            x /= 2\n",
    "\n",
    "        return x.sum()"
   ],
   "id": "abbcccc0e0ea0e2d",
   "outputs": [],
   "execution_count": 19
  },
  {
   "metadata": {
    "ExecuteTime": {
     "end_time": "2025-08-12T16:22:06.638341Z",
     "start_time": "2025-08-12T16:22:06.626702Z"
    }
   },
   "cell_type": "code",
   "source": [
    "net = FixedHiddenMLP()\n",
    "print(net(X))"
   ],
   "id": "45e925d988690248",
   "outputs": [
    {
     "name": "stdout",
     "output_type": "stream",
     "text": [
      "tensor(0.2750, grad_fn=<SumBackward0>)\n"
     ]
    }
   ],
   "execution_count": 21
  },
  {
   "metadata": {
    "ExecuteTime": {
     "end_time": "2025-08-12T16:24:30.103768Z",
     "start_time": "2025-08-12T16:24:30.087470Z"
    }
   },
   "cell_type": "code",
   "source": [
    "class NestMLP(nn.Module):\n",
    "    def __init__(self):\n",
    "        super().__init__()\n",
    "        self.net = nn.Sequential(\n",
    "            nn.Linear(20, 64),\n",
    "            nn.ReLU(),\n",
    "            nn.Linear(64, 32),\n",
    "            nn.ReLU()\n",
    "        )\n",
    "        self.linear = nn.Linear(32, 16)\n",
    "\n",
    "    def forward(self, x):\n",
    "        return self.linear(self.net(x))\n",
    "\n",
    "chimera = nn.Sequential(\n",
    "    NestMLP(),\n",
    "    nn.Linear(16, 20),\n",
    "    FixedHiddenMLP()\n",
    "\n",
    ")\n",
    "\n",
    "chimera(X)\n",
    "\n"
   ],
   "id": "38bae12ba3ddc794",
   "outputs": [
    {
     "name": "stdout",
     "output_type": "stream",
     "text": [
      "torch.Size([2, 20])\n"
     ]
    }
   ],
   "execution_count": 23
  }
 ],
 "metadata": {
  "kernelspec": {
   "display_name": "Python 3",
   "language": "python",
   "name": "python3"
  },
  "language_info": {
   "codemirror_mode": {
    "name": "ipython",
    "version": 2
   },
   "file_extension": ".py",
   "mimetype": "text/x-python",
   "name": "python",
   "nbconvert_exporter": "python",
   "pygments_lexer": "ipython2",
   "version": "2.7.6"
  }
 },
 "nbformat": 4,
 "nbformat_minor": 5
}
