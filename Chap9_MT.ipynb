{
 "cells": [
  {
   "cell_type": "code",
   "execution_count": null,
   "id": "3aa3f7a8",
   "metadata": {},
   "outputs": [],
   "source": [
    "import traintools"
   ]
  },
  {
   "cell_type": "code",
   "execution_count": null,
   "id": "98292687",
   "metadata": {},
   "outputs": [],
   "source": [
    "traintools.DATA_HUB['fra-eng'] = (traintools.DATA_URL + 'fra-eng.zip',\n",
    "\t\t\t\t\t\t\t\t  '94646ad1522d915e7b0f9296181140edcf86a4f5')\n",
    "\n",
    "def read_data_nmt():\n",
    "\tdata_dir = traintools.download_extract('fra-eng')\n",
    "\twith open(data_dir + '/fra.txt', 'r', encoding='utf-8') as f:\n",
    "\t\treturn f.read()\n",
    "\n",
    "raw_text = read_data_nmt()\n",
    "print(raw_text)"
   ]
  },
  {
   "cell_type": "code",
   "execution_count": null,
   "id": "ed4abf87",
   "metadata": {},
   "outputs": [],
   "source": [
    "def preprocess_nmt(text):\n",
    "\tdef no_space(char,prev_char):\n",
    "\t\treturn char in set(',.!?') and prev_char != ' '\n",
    "\ttext = text.replace('\\u202f', ' ').replace('\\xa0', ' ').lower()\n",
    "\tout = []\n",
    "\tfor i, char in enumerate(text):\n",
    "\t\tif i > 0 and no_space(char, text[i-1]):\n",
    "\t\t\tout.append(' ' + char)\n",
    "\t\telse:\n",
    "\t\t\tout.append(char)\n",
    "\treturn ''.join(out)\n",
    "\n",
    "text = preprocess_nmt(raw_text)\n",
    "print(text)"
   ]
  },
  {
   "cell_type": "code",
   "execution_count": null,
   "id": "84b65cda",
   "metadata": {},
   "outputs": [],
   "source": [
    "def tokenize_nmt(text,num_examples=None):\n",
    "\tsource = []\n",
    "\ttarget = []\n",
    "\n",
    "\tfor i,line in enumerate(text.split('\\n')):\n",
    "\t\tif num_examples and i > num_examples:\n",
    "\t\t\tbreak\n",
    "\t\tparts = line.split('\\t')\n",
    "\t\tif len(parts) == 2:\n",
    "\t\t\tsource.append(parts[0].split(' '))\n",
    "\t\t\ttarget.append(parts[1].split(' '))\n",
    "\treturn source, target\n",
    "\n",
    "source ,target = tokenize_nmt(text)\n",
    "\n",
    "print(source[:6])\n",
    "print(target[:6])"
   ]
  },
  {
   "cell_type": "code",
   "execution_count": null,
   "id": "16e956c4",
   "metadata": {},
   "outputs": [],
   "source": []
  }
 ],
 "metadata": {
  "kernelspec": {
   "display_name": "torch",
   "language": "python",
   "name": "python3"
  },
  "language_info": {
   "codemirror_mode": {
    "name": "ipython",
    "version": 3
   },
   "file_extension": ".py",
   "mimetype": "text/x-python",
   "name": "python",
   "nbconvert_exporter": "python",
   "pygments_lexer": "ipython3",
   "version": "3.9.23"
  }
 },
 "nbformat": 4,
 "nbformat_minor": 5
}
