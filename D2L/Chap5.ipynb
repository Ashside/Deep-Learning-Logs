{
 "cells": [
  {
   "cell_type": "code",
   "id": "initial_id",
   "metadata": {
    "collapsed": true,
    "ExecuteTime": {
     "end_time": "2025-08-12T15:28:13.180760Z",
     "start_time": "2025-08-12T15:28:13.160379Z"
    }
   },
   "source": [
    "import torch\n",
    "from torch import nn\n",
    "from torch.nn import functional as F\n",
    "\n",
    "net = nn.Sequential(\n",
    "    nn.Linear(20, 256),\n",
    "    nn.ReLU(),\n",
    "    nn.Linear(256, 10)\n",
    ")\n",
    "\n",
    "X = torch.rand(2, 20)\n",
    "\n",
    "print(net(X))"
   ],
   "outputs": [
    {
     "name": "stdout",
     "output_type": "stream",
     "text": [
      "tensor([[-0.0277, -0.2021,  0.1182,  0.0136, -0.0244, -0.0506,  0.0403,  0.0109,\n",
      "         -0.2502, -0.0485],\n",
      "        [ 0.0291, -0.1190,  0.0490, -0.0420,  0.0313,  0.0423,  0.0707,  0.0024,\n",
      "         -0.1651,  0.0424]], grad_fn=<AddmmBackward0>)\n"
     ]
    }
   ],
   "execution_count": 11
  },
  {
   "metadata": {
    "ExecuteTime": {
     "end_time": "2025-08-12T15:55:21.163745Z",
     "start_time": "2025-08-12T15:55:21.149910Z"
    }
   },
   "cell_type": "code",
   "source": [
    "class MLP(nn.Module):\n",
    "    def __init__(self):\n",
    "        super().__init__()\n",
    "        self.hidden = nn.Linear(20, 256)\n",
    "        self.out = nn.Linear(256, 10)\n",
    "\n",
    "    def forward(self, x):\n",
    "        return self.out(F.relu(self.hidden(x)))"
   ],
   "id": "5c0e2a61fd506ba1",
   "outputs": [],
   "execution_count": 12
  },
  {
   "metadata": {
    "ExecuteTime": {
     "end_time": "2025-08-12T15:59:22.006705Z",
     "start_time": "2025-08-12T15:59:21.994382Z"
    }
   },
   "cell_type": "code",
   "source": [
    "net  = MLP()\n",
    "print(net(X))"
   ],
   "id": "d848ada027317fcb",
   "outputs": [
    {
     "name": "stdout",
     "output_type": "stream",
     "text": [
      "tensor([[-0.1515, -0.0734, -0.0552, -0.1136, -0.1307,  0.1394,  0.2825,  0.0846,\n",
      "          0.2862, -0.1795],\n",
      "        [-0.0513, -0.1965, -0.1761, -0.0359, -0.2581,  0.0568,  0.2420, -0.0529,\n",
      "          0.2803, -0.1158]], grad_fn=<AddmmBackward0>)\n"
     ]
    }
   ],
   "execution_count": 14
  },
  {
   "metadata": {
    "ExecuteTime": {
     "end_time": "2025-08-12T16:07:39.048990Z",
     "start_time": "2025-08-12T16:07:39.035622Z"
    }
   },
   "cell_type": "code",
   "source": [
    "class MySequential(nn.Module):\n",
    "    def __init__(self, *args):\n",
    "        super().__init__()\n",
    "        for idx, module in enumerate(args):\n",
    "            self.add_module(str(idx), module)\n",
    "\n",
    "    def forward(self, x):\n",
    "        for block in self.children():\n",
    "            x = block(x)\n",
    "        return x\n"
   ],
   "id": "62e39ced114305ff",
   "outputs": [],
   "execution_count": 15
  },
  {
   "metadata": {
    "ExecuteTime": {
     "end_time": "2025-08-12T16:09:22.611038Z",
     "start_time": "2025-08-12T16:09:22.598495Z"
    }
   },
   "cell_type": "code",
   "source": [
    "net = MySequential(\n",
    "    nn.Linear(20, 256),\n",
    "    nn.ReLU(),\n",
    "    nn.Linear(256, 10)\n",
    ")\n",
    "print(net(X))"
   ],
   "id": "5055c215bbefc116",
   "outputs": [
    {
     "name": "stdout",
     "output_type": "stream",
     "text": [
      "tensor([[-0.0053,  0.0406,  0.0556,  0.1047,  0.1005, -0.0892,  0.0493, -0.1996,\n",
      "          0.0351, -0.1441],\n",
      "        [-0.0653, -0.0378,  0.0875,  0.1515,  0.1838, -0.1095,  0.0607, -0.1725,\n",
      "          0.1080, -0.2009]], grad_fn=<AddmmBackward0>)\n"
     ]
    }
   ],
   "execution_count": 17
  },
  {
   "metadata": {
    "ExecuteTime": {
     "end_time": "2025-08-12T16:21:40.040354Z",
     "start_time": "2025-08-12T16:21:40.027460Z"
    }
   },
   "cell_type": "code",
   "source": [
    "class FixedHiddenMLP(nn.Module):\n",
    "    def __init__(self):\n",
    "        super().__init__()\n",
    "        self.rand_weight = torch.rand((20, 20),requires_grad=False)\n",
    "        self.linear = nn.Linear(20, 20)\n",
    "    def forward(self, x):\n",
    "        x = self.linear(x)\n",
    "        x = F.relu(torch.mm(x, self.rand_weight) + 1)\n",
    "        x = self.linear(x)\n",
    "        while x.abs().sum() > 1:\n",
    "            x /= 2\n",
    "\n",
    "        return x.sum()"
   ],
   "id": "abbcccc0e0ea0e2d",
   "outputs": [],
   "execution_count": 19
  },
  {
   "metadata": {
    "ExecuteTime": {
     "end_time": "2025-08-12T16:22:06.638341Z",
     "start_time": "2025-08-12T16:22:06.626702Z"
    }
   },
   "cell_type": "code",
   "source": [
    "net = FixedHiddenMLP()\n",
    "print(net(X))"
   ],
   "id": "45e925d988690248",
   "outputs": [
    {
     "name": "stdout",
     "output_type": "stream",
     "text": [
      "tensor(0.2750, grad_fn=<SumBackward0>)\n"
     ]
    }
   ],
   "execution_count": 21
  },
  {
   "metadata": {
    "ExecuteTime": {
     "end_time": "2025-08-12T16:24:30.103768Z",
     "start_time": "2025-08-12T16:24:30.087470Z"
    }
   },
   "cell_type": "code",
   "source": [
    "class NestMLP(nn.Module):\n",
    "    def __init__(self):\n",
    "        super().__init__()\n",
    "        self.net = nn.Sequential(\n",
    "            nn.Linear(20, 64),\n",
    "            nn.ReLU(),\n",
    "            nn.Linear(64, 32),\n",
    "            nn.ReLU()\n",
    "        )\n",
    "        self.linear = nn.Linear(32, 16)\n",
    "\n",
    "    def forward(self, x):\n",
    "        return self.linear(self.net(x))\n",
    "\n",
    "chimera = nn.Sequential(\n",
    "    NestMLP(),\n",
    "    nn.Linear(16, 20),\n",
    "    FixedHiddenMLP()\n",
    "\n",
    ")\n",
    "\n",
    "chimera(X)\n",
    "\n"
   ],
   "id": "38bae12ba3ddc794",
   "outputs": [
    {
     "name": "stdout",
     "output_type": "stream",
     "text": [
      "torch.Size([2, 20])\n"
     ]
    }
   ],
   "execution_count": 23
  },
  {
   "metadata": {
    "ExecuteTime": {
     "end_time": "2025-08-13T09:17:47.282001Z",
     "start_time": "2025-08-13T09:17:47.273714Z"
    }
   },
   "cell_type": "code",
   "source": [
    "import torch\n",
    "from torch import nn\n",
    "net = nn.Sequential(\n",
    "    nn.Linear(4,8),\n",
    "    nn.ReLU(),\n",
    "    nn.Linear(8, 1)\n",
    ")\n",
    "\n",
    "X = torch.rand(2, 4)\n",
    "print(net(X))"
   ],
   "id": "99400531a8668123",
   "outputs": [
    {
     "name": "stdout",
     "output_type": "stream",
     "text": [
      "tensor([[0.1306],\n",
      "        [0.1476]], grad_fn=<AddmmBackward0>)\n"
     ]
    }
   ],
   "execution_count": 2
  },
  {
   "metadata": {
    "ExecuteTime": {
     "end_time": "2025-08-13T09:19:34.007507Z",
     "start_time": "2025-08-13T09:19:34.001292Z"
    }
   },
   "cell_type": "code",
   "source": "print(net[2].state_dict())",
   "id": "b248e3d5c807fc1b",
   "outputs": [
    {
     "name": "stdout",
     "output_type": "stream",
     "text": [
      "OrderedDict([('weight', tensor([[ 0.0623,  0.0907, -0.0481,  0.3524,  0.0970, -0.0724, -0.0956,  0.2872]])), ('bias', tensor([0.0126]))])\n"
     ]
    }
   ],
   "execution_count": 4
  },
  {
   "metadata": {
    "ExecuteTime": {
     "end_time": "2025-08-13T09:21:42.792731Z",
     "start_time": "2025-08-13T09:21:42.783565Z"
    }
   },
   "cell_type": "code",
   "source": [
    "print(type(net[2].bias))\n",
    "print(net[2].bias)\n",
    "print(net[2].bias.data)"
   ],
   "id": "b37e4564f9835108",
   "outputs": [
    {
     "name": "stdout",
     "output_type": "stream",
     "text": [
      "<class 'torch.nn.parameter.Parameter'>\n",
      "Parameter containing:\n",
      "tensor([0.0126], requires_grad=True)\n",
      "tensor([0.0126])\n"
     ]
    }
   ],
   "execution_count": 6
  },
  {
   "metadata": {
    "ExecuteTime": {
     "end_time": "2025-08-13T09:27:51.432457Z",
     "start_time": "2025-08-13T09:27:51.426944Z"
    }
   },
   "cell_type": "code",
   "source": "print(net[2].weight.grad)",
   "id": "c6e2f2ad5b3f1170",
   "outputs": [
    {
     "name": "stdout",
     "output_type": "stream",
     "text": [
      "None\n"
     ]
    }
   ],
   "execution_count": 8
  },
  {
   "metadata": {
    "ExecuteTime": {
     "end_time": "2025-08-13T09:30:33.120938Z",
     "start_time": "2025-08-13T09:30:33.113411Z"
    }
   },
   "cell_type": "code",
   "source": [
    "def block1():\n",
    "    return nn.Sequential(\n",
    "        nn.Linear(4, 8),\n",
    "        nn.ReLU(),\n",
    "        nn.Linear(8,4),\n",
    "        nn.ReLU()\n",
    "    )\n",
    "def block2():\n",
    "    net = nn.Sequential()\n",
    "    for i in range(4):\n",
    "        net.add_module(f'block_{i}', block1())\n",
    "\n",
    "    return net"
   ],
   "id": "bc1b0be189d09b9e",
   "outputs": [],
   "execution_count": 11
  },
  {
   "metadata": {
    "ExecuteTime": {
     "end_time": "2025-08-13T09:32:38.161689Z",
     "start_time": "2025-08-13T09:32:38.151770Z"
    }
   },
   "cell_type": "code",
   "source": [
    "rgnet = nn.Sequential(\n",
    "    block2(),\n",
    "    nn.Linear(4, 1)\n",
    ")\n",
    "\n",
    "print(rgnet(X))"
   ],
   "id": "f28cfe00eaf732a6",
   "outputs": [
    {
     "name": "stdout",
     "output_type": "stream",
     "text": [
      "tensor([[0.4738],\n",
      "        [0.4735]], grad_fn=<AddmmBackward0>)\n"
     ]
    }
   ],
   "execution_count": 13
  },
  {
   "metadata": {
    "ExecuteTime": {
     "end_time": "2025-08-13T09:32:46.858378Z",
     "start_time": "2025-08-13T09:32:46.851807Z"
    }
   },
   "cell_type": "code",
   "source": "print(rgnet)",
   "id": "dca01ad260731325",
   "outputs": [
    {
     "name": "stdout",
     "output_type": "stream",
     "text": [
      "Sequential(\n",
      "  (0): Sequential(\n",
      "    (block_0): Sequential(\n",
      "      (0): Linear(in_features=4, out_features=8, bias=True)\n",
      "      (1): ReLU()\n",
      "      (2): Linear(in_features=8, out_features=4, bias=True)\n",
      "      (3): ReLU()\n",
      "    )\n",
      "    (block_1): Sequential(\n",
      "      (0): Linear(in_features=4, out_features=8, bias=True)\n",
      "      (1): ReLU()\n",
      "      (2): Linear(in_features=8, out_features=4, bias=True)\n",
      "      (3): ReLU()\n",
      "    )\n",
      "    (block_2): Sequential(\n",
      "      (0): Linear(in_features=4, out_features=8, bias=True)\n",
      "      (1): ReLU()\n",
      "      (2): Linear(in_features=8, out_features=4, bias=True)\n",
      "      (3): ReLU()\n",
      "    )\n",
      "    (block_3): Sequential(\n",
      "      (0): Linear(in_features=4, out_features=8, bias=True)\n",
      "      (1): ReLU()\n",
      "      (2): Linear(in_features=8, out_features=4, bias=True)\n",
      "      (3): ReLU()\n",
      "    )\n",
      "  )\n",
      "  (1): Linear(in_features=4, out_features=1, bias=True)\n",
      ")\n"
     ]
    }
   ],
   "execution_count": 15
  },
  {
   "metadata": {
    "ExecuteTime": {
     "end_time": "2025-08-13T10:07:57.860084Z",
     "start_time": "2025-08-13T10:07:57.849196Z"
    }
   },
   "cell_type": "code",
   "source": [
    "def init_normal(m):\n",
    "    if type(m) == nn.Linear:\n",
    "        nn.init.normal_(m.weight, mean=0, std=0.01)\n",
    "        nn.init.zeros_(m.bias)\n",
    "net.apply(init_normal)\n",
    "net[0].weight.data[0], net[0].bias.data"
   ],
   "id": "1d76f842835350f9",
   "outputs": [
    {
     "data": {
      "text/plain": [
       "(tensor([-0.0024, -0.0018,  0.0259,  0.0108]),\n",
       " tensor([0., 0., 0., 0., 0., 0., 0., 0.]))"
      ]
     },
     "execution_count": 17,
     "metadata": {},
     "output_type": "execute_result"
    }
   ],
   "execution_count": 17
  },
  {
   "metadata": {
    "ExecuteTime": {
     "end_time": "2025-08-13T10:49:00.871909Z",
     "start_time": "2025-08-13T10:49:00.862308Z"
    }
   },
   "cell_type": "code",
   "source": [
    "def init_constant(m):\n",
    "    if type(m) == nn.Linear:\n",
    "        nn.init.constant_(m.weight, 1)\n",
    "        nn.init.zeros_(m.bias)\n",
    "net.apply(init_constant)\n",
    "net[0].weight.data[0], net[0].bias.data"
   ],
   "id": "ed39d219a162f4e1",
   "outputs": [
    {
     "data": {
      "text/plain": [
       "(tensor([1., 1., 1., 1.]), tensor([0., 0., 0., 0., 0., 0., 0., 0.]))"
      ]
     },
     "execution_count": 19,
     "metadata": {},
     "output_type": "execute_result"
    }
   ],
   "execution_count": 19
  },
  {
   "metadata": {},
   "cell_type": "markdown",
   "source": [
    "# 延迟初始化\n",
    "\n",
    "- 框架能够自动推断参数形状\n",
    "- 可以通过模型传递数据，使框架最终初始化参数"
   ],
   "id": "520c9cb607323efe"
  },
  {
   "metadata": {
    "ExecuteTime": {
     "end_time": "2025-08-13T10:58:28.427332Z",
     "start_time": "2025-08-13T10:58:25.133237Z"
    }
   },
   "cell_type": "code",
   "source": [
    "import torch\n",
    "import torch.nn.functional as F\n",
    "from torch import nn\n",
    "\n",
    "class CenteredLayer(nn.Module):\n",
    "    def __init__(self):\n",
    "        super().__init__()\n",
    "\n",
    "    def forward(self, X):\n",
    "\n",
    "        return X - X.mean()\n"
   ],
   "id": "29352fa543824cb9",
   "outputs": [],
   "execution_count": 3
  },
  {
   "metadata": {
    "ExecuteTime": {
     "end_time": "2025-08-13T10:58:28.448322Z",
     "start_time": "2025-08-13T10:58:28.437155Z"
    }
   },
   "cell_type": "code",
   "source": [
    "layer = CenteredLayer()\n",
    "print(layer(torch.FloatTensor([1, 2, 3, 4, 5])))"
   ],
   "id": "7d9bfeebe6ecf91f",
   "outputs": [
    {
     "name": "stdout",
     "output_type": "stream",
     "text": [
      "tensor([-2., -1.,  0.,  1.,  2.])\n"
     ]
    }
   ],
   "execution_count": 4
  },
  {
   "metadata": {
    "ExecuteTime": {
     "end_time": "2025-08-13T10:58:28.533422Z",
     "start_time": "2025-08-13T10:58:28.527975Z"
    }
   },
   "cell_type": "code",
   "source": [
    "net = nn.Sequential(\n",
    "    nn.Linear(8, 128),\n",
    "    CenteredLayer(),\n",
    ")"
   ],
   "id": "e3dbff896b507adf",
   "outputs": [],
   "execution_count": 5
  },
  {
   "metadata": {
    "ExecuteTime": {
     "end_time": "2025-08-13T10:58:28.591875Z",
     "start_time": "2025-08-13T10:58:28.558959Z"
    }
   },
   "cell_type": "code",
   "source": [
    "Y = net(torch.rand(4,8))\n",
    "Y.mean()"
   ],
   "id": "d68356b981924c2c",
   "outputs": [
    {
     "data": {
      "text/plain": [
       "tensor(-3.7253e-09, grad_fn=<MeanBackward0>)"
      ]
     },
     "execution_count": 6,
     "metadata": {},
     "output_type": "execute_result"
    }
   ],
   "execution_count": 6
  },
  {
   "metadata": {
    "ExecuteTime": {
     "end_time": "2025-08-13T11:02:14.155081Z",
     "start_time": "2025-08-13T11:02:14.147201Z"
    }
   },
   "cell_type": "code",
   "source": [
    "class MyLinear(nn.Module):\n",
    "    def __init__(self, in_features, out_features):\n",
    "        super().__init__()\n",
    "        self.weight = nn.Parameter(torch.randn(in_features, out_features))\n",
    "        self.bias = nn.Parameter(torch.zeros(out_features))\n",
    "\n",
    "    def forward(self, X):\n",
    "        linear = torch.matmul(X, self.weight.data) + self.bias.data\n",
    "        return F.relu(linear)"
   ],
   "id": "3ad38314bd611833",
   "outputs": [],
   "execution_count": 7
  },
  {
   "metadata": {
    "ExecuteTime": {
     "end_time": "2025-08-13T11:02:29.021696Z",
     "start_time": "2025-08-13T11:02:29.007553Z"
    }
   },
   "cell_type": "code",
   "source": [
    "linear = MyLinear(5,3)\n",
    "linear.weight"
   ],
   "id": "ed58b76138410234",
   "outputs": [
    {
     "data": {
      "text/plain": [
       "Parameter containing:\n",
       "tensor([[ 0.1619, -0.4214,  0.4307],\n",
       "        [ 2.1459, -0.0796,  1.3273],\n",
       "        [ 0.8525, -1.0634, -0.1208],\n",
       "        [ 0.3868, -0.3044, -1.2747],\n",
       "        [ 2.1954,  0.7122,  0.7979]], requires_grad=True)"
      ]
     },
     "execution_count": 8,
     "metadata": {},
     "output_type": "execute_result"
    }
   ],
   "execution_count": 8
  },
  {
   "metadata": {
    "ExecuteTime": {
     "end_time": "2025-08-13T11:05:07.915608Z",
     "start_time": "2025-08-13T11:05:07.897715Z"
    }
   },
   "cell_type": "code",
   "source": "linear(torch.rand(2,5))",
   "id": "695f933a191f5071",
   "outputs": [
    {
     "data": {
      "text/plain": [
       "tensor([[1.7338, 0.0000, 0.6875],\n",
       "        [1.8897, 0.0000, 0.0000]])"
      ]
     },
     "execution_count": 9,
     "metadata": {},
     "output_type": "execute_result"
    }
   ],
   "execution_count": 9
  },
  {
   "metadata": {
    "ExecuteTime": {
     "end_time": "2025-08-13T11:07:08.046600Z",
     "start_time": "2025-08-13T11:07:08.038552Z"
    }
   },
   "cell_type": "code",
   "source": "x = torch.arange(4)",
   "id": "ebdc20a014ff6742",
   "outputs": [],
   "execution_count": 10
  },
  {
   "metadata": {
    "ExecuteTime": {
     "end_time": "2025-08-13T11:07:10.942832Z",
     "start_time": "2025-08-13T11:07:10.935346Z"
    }
   },
   "cell_type": "code",
   "source": "x",
   "id": "71d16246b9f7e9c6",
   "outputs": [
    {
     "data": {
      "text/plain": [
       "tensor([0, 1, 2, 3])"
      ]
     },
     "execution_count": 11,
     "metadata": {},
     "output_type": "execute_result"
    }
   ],
   "execution_count": 11
  },
  {
   "metadata": {
    "ExecuteTime": {
     "end_time": "2025-08-13T11:07:21.766191Z",
     "start_time": "2025-08-13T11:07:21.733977Z"
    }
   },
   "cell_type": "code",
   "source": "torch.save(x, 'x-file')",
   "id": "6a0455c003992deb",
   "outputs": [],
   "execution_count": 12
  },
  {
   "metadata": {
    "ExecuteTime": {
     "end_time": "2025-08-13T11:07:59.611843Z",
     "start_time": "2025-08-13T11:07:59.598843Z"
    }
   },
   "cell_type": "code",
   "source": [
    "x2 = torch.load('x-file')\n",
    "x2"
   ],
   "id": "68db00b74c4c5a97",
   "outputs": [
    {
     "data": {
      "text/plain": [
       "tensor([0, 1, 2, 3])"
      ]
     },
     "execution_count": 13,
     "metadata": {},
     "output_type": "execute_result"
    }
   ],
   "execution_count": 13
  },
  {
   "metadata": {
    "ExecuteTime": {
     "end_time": "2025-08-13T11:19:35.605136Z",
     "start_time": "2025-08-13T11:19:35.598748Z"
    }
   },
   "cell_type": "code",
   "source": [
    "y = torch.zeros(4)\n",
    "torch.save((x, y), 'xy-file')"
   ],
   "id": "8f9f04ac442deb33",
   "outputs": [],
   "execution_count": 14
  },
  {
   "metadata": {
    "ExecuteTime": {
     "end_time": "2025-08-13T11:19:38.907622Z",
     "start_time": "2025-08-13T11:19:38.901715Z"
    }
   },
   "cell_type": "code",
   "source": "x2, y2 = torch.load('xy-file')",
   "id": "dbc5853b650a3808",
   "outputs": [],
   "execution_count": 15
  },
  {
   "metadata": {
    "ExecuteTime": {
     "end_time": "2025-08-13T11:19:43.238470Z",
     "start_time": "2025-08-13T11:19:43.231115Z"
    }
   },
   "cell_type": "code",
   "source": "x2,y2",
   "id": "100c15b1de04090e",
   "outputs": [
    {
     "data": {
      "text/plain": [
       "(tensor([0, 1, 2, 3]), tensor([0., 0., 0., 0.]))"
      ]
     },
     "execution_count": 16,
     "metadata": {},
     "output_type": "execute_result"
    }
   ],
   "execution_count": 16
  },
  {
   "metadata": {
    "ExecuteTime": {
     "end_time": "2025-08-13T11:20:09.097965Z",
     "start_time": "2025-08-13T11:20:09.088633Z"
    }
   },
   "cell_type": "code",
   "source": [
    "mydict = {'x': x, 'y': y}\n",
    "torch.save(mydict, 'mydict-file')\n",
    "mydict2 = torch.load('mydict-file')\n",
    "mydict2"
   ],
   "id": "7c840adee61d4132",
   "outputs": [
    {
     "data": {
      "text/plain": [
       "{'x': tensor([0, 1, 2, 3]), 'y': tensor([0., 0., 0., 0.])}"
      ]
     },
     "execution_count": 17,
     "metadata": {},
     "output_type": "execute_result"
    }
   ],
   "execution_count": 17
  },
  {
   "metadata": {
    "ExecuteTime": {
     "end_time": "2025-08-13T11:23:53.833300Z",
     "start_time": "2025-08-13T11:23:53.809350Z"
    }
   },
   "cell_type": "code",
   "source": [
    "class MLP(nn.Module):\n",
    "    def __init__(self):\n",
    "        super().__init__()\n",
    "        self.hidden = nn.Linear(20, 256)\n",
    "        self.out = nn.Linear(256, 10)\n",
    "\n",
    "    def forward(self, x):\n",
    "        return self.out(F.relu(self.hidden(x)))\n",
    "\n",
    "net = MLP()\n",
    "X = torch.rand(2, 20)\n",
    "Y = net(X)\n",
    "torch.save(net.state_dict(), 'mlp.params')"
   ],
   "id": "da1ef407c4c25cd4",
   "outputs": [],
   "execution_count": 19
  },
  {
   "metadata": {
    "ExecuteTime": {
     "end_time": "2025-08-13T11:24:16.852582Z",
     "start_time": "2025-08-13T11:24:16.843718Z"
    }
   },
   "cell_type": "code",
   "source": [
    "clone = MLP()\n",
    "clone.load_state_dict(torch.load('mlp.params'))\n",
    "clone.eval()"
   ],
   "id": "d352e0c7570b6047",
   "outputs": [
    {
     "data": {
      "text/plain": [
       "MLP(\n",
       "  (hidden): Linear(in_features=20, out_features=256, bias=True)\n",
       "  (out): Linear(in_features=256, out_features=10, bias=True)\n",
       ")"
      ]
     },
     "execution_count": 20,
     "metadata": {},
     "output_type": "execute_result"
    }
   ],
   "execution_count": 20
  },
  {
   "metadata": {
    "ExecuteTime": {
     "end_time": "2025-08-13T11:24:37.472079Z",
     "start_time": "2025-08-13T11:24:37.465313Z"
    }
   },
   "cell_type": "code",
   "source": [
    "Y_clone = clone(X)\n",
    "print(Y_clone == Y)"
   ],
   "id": "415e1b5cfe732987",
   "outputs": [
    {
     "name": "stdout",
     "output_type": "stream",
     "text": [
      "tensor([[True, True, True, True, True, True, True, True, True, True],\n",
      "        [True, True, True, True, True, True, True, True, True, True]])\n"
     ]
    }
   ],
   "execution_count": 21
  },
  {
   "metadata": {
    "ExecuteTime": {
     "end_time": "2025-08-13T13:33:57.592596Z",
     "start_time": "2025-08-13T13:33:57.582241Z"
    }
   },
   "cell_type": "code",
   "source": [
    "import torch\n",
    "from torch import nn\n",
    "\n",
    "torch.device('cpu'),\n",
    "torch.device('cuda'), torch.device('cuda:0'), torch.device('cuda:1')"
   ],
   "id": "881d0c861bcd56b9",
   "outputs": [
    {
     "data": {
      "text/plain": [
       "(device(type='cuda'),\n",
       " device(type='cuda', index=0),\n",
       " device(type='cuda', index=1))"
      ]
     },
     "execution_count": 4,
     "metadata": {},
     "output_type": "execute_result"
    }
   ],
   "execution_count": 4
  },
  {
   "metadata": {
    "ExecuteTime": {
     "end_time": "2025-08-13T15:56:27.258092Z",
     "start_time": "2025-08-13T15:56:27.227311Z"
    }
   },
   "cell_type": "code",
   "source": "torch.cuda.device_count()",
   "id": "636c4607f2408ba9",
   "outputs": [
    {
     "data": {
      "text/plain": [
       "1"
      ]
     },
     "execution_count": 6,
     "metadata": {},
     "output_type": "execute_result"
    }
   ],
   "execution_count": 6
  },
  {
   "metadata": {
    "ExecuteTime": {
     "end_time": "2025-08-13T15:57:04.815075Z",
     "start_time": "2025-08-13T15:57:04.802496Z"
    }
   },
   "cell_type": "code",
   "source": [
    "def try_gpu(i=0):\n",
    "    if torch.cuda.device_count() >= i + 1:\n",
    "        return torch.device(f'cuda:{i}')\n",
    "    return torch.device('cpu')\n",
    "\n",
    "def try_all_gpus():\n",
    "    return [try_gpu(i) for i in range(torch.cuda.device_count())] or [torch.device('cpu')]"
   ],
   "id": "91f05b2d355175f4",
   "outputs": [],
   "execution_count": 8
  },
  {
   "metadata": {
    "ExecuteTime": {
     "end_time": "2025-08-13T15:57:20.155996Z",
     "start_time": "2025-08-13T15:57:20.144015Z"
    }
   },
   "cell_type": "code",
   "source": "try_gpu(0)\n",
   "id": "8d985767884fe3e1",
   "outputs": [
    {
     "data": {
      "text/plain": [
       "device(type='cuda', index=0)"
      ]
     },
     "execution_count": 10,
     "metadata": {},
     "output_type": "execute_result"
    }
   ],
   "execution_count": 10
  },
  {
   "metadata": {
    "ExecuteTime": {
     "end_time": "2025-08-13T15:57:26.042080Z",
     "start_time": "2025-08-13T15:57:26.029977Z"
    }
   },
   "cell_type": "code",
   "source": "try_gpu(10)",
   "id": "bdfbd066887e198b",
   "outputs": [
    {
     "data": {
      "text/plain": [
       "device(type='cpu')"
      ]
     },
     "execution_count": 12,
     "metadata": {},
     "output_type": "execute_result"
    }
   ],
   "execution_count": 12
  },
  {
   "metadata": {
    "ExecuteTime": {
     "end_time": "2025-08-13T15:57:44.226757Z",
     "start_time": "2025-08-13T15:57:44.214537Z"
    }
   },
   "cell_type": "code",
   "source": "try_all_gpus()",
   "id": "136efe210a3fb491",
   "outputs": [
    {
     "data": {
      "text/plain": [
       "[device(type='cuda', index=0)]"
      ]
     },
     "execution_count": 14,
     "metadata": {},
     "output_type": "execute_result"
    }
   ],
   "execution_count": 14
  },
  {
   "metadata": {
    "ExecuteTime": {
     "end_time": "2025-08-13T15:58:24.753181Z",
     "start_time": "2025-08-13T15:58:24.742383Z"
    }
   },
   "cell_type": "code",
   "source": [
    "x = torch.tensor([1, 2, 3])\n",
    "x.device"
   ],
   "id": "af397bef6d6365c3",
   "outputs": [
    {
     "data": {
      "text/plain": [
       "device(type='cpu')"
      ]
     },
     "execution_count": 16,
     "metadata": {},
     "output_type": "execute_result"
    }
   ],
   "execution_count": 16
  },
  {
   "metadata": {
    "ExecuteTime": {
     "end_time": "2025-08-13T15:59:29.188961Z",
     "start_time": "2025-08-13T15:59:29.169223Z"
    }
   },
   "cell_type": "code",
   "source": [
    "X = torch.ones(2, 3, device=try_gpu())\n",
    "X.device"
   ],
   "id": "42ac7b3444ad8920",
   "outputs": [
    {
     "data": {
      "text/plain": [
       "device(type='cuda', index=0)"
      ]
     },
     "execution_count": 22,
     "metadata": {},
     "output_type": "execute_result"
    }
   ],
   "execution_count": 22
  }
 ],
 "metadata": {
  "kernelspec": {
   "display_name": "Python 3",
   "language": "python",
   "name": "python3"
  },
  "language_info": {
   "codemirror_mode": {
    "name": "ipython",
    "version": 2
   },
   "file_extension": ".py",
   "mimetype": "text/x-python",
   "name": "python",
   "nbconvert_exporter": "python",
   "pygments_lexer": "ipython2",
   "version": "2.7.6"
  }
 },
 "nbformat": 4,
 "nbformat_minor": 5
}
