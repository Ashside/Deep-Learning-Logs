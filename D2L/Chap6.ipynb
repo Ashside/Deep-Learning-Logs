{
 "cells": [
  {
   "cell_type": "code",
   "id": "initial_id",
   "metadata": {
    "collapsed": true,
    "ExecuteTime": {
     "end_time": "2025-08-14T10:43:09.400760Z",
     "start_time": "2025-08-14T10:43:09.379093Z"
    }
   },
   "source": [
    "import torch\n",
    "from torch import nn\n",
    "import traintools\n"
   ],
   "outputs": [],
   "execution_count": 10
  },
  {
   "metadata": {
    "ExecuteTime": {
     "end_time": "2025-08-14T10:43:09.565368Z",
     "start_time": "2025-08-14T10:43:09.554246Z"
    }
   },
   "cell_type": "code",
   "source": [
    "X = torch.tensor(\n",
    "    [\n",
    "        [0.0, 1.0, 2.0],\n",
    "        [3.0, 4.0, 5.0],\n",
    "        [6.0, 7.0, 8.0]\n",
    "    ]\n",
    ")\n",
    "\n",
    "K = torch.tensor(\n",
    "    [\n",
    "        [0.0, 1.0],\n",
    "        [2.0, 3.0],\n",
    "    ]\n",
    ")\n",
    "\n",
    "traintools.corr2d(X, K)"
   ],
   "id": "a2ba90803870abaa",
   "outputs": [
    {
     "data": {
      "text/plain": [
       "tensor([[19., 25.],\n",
       "        [37., 43.]])"
      ]
     },
     "execution_count": 11,
     "metadata": {},
     "output_type": "execute_result"
    }
   ],
   "execution_count": 11
  },
  {
   "metadata": {},
   "cell_type": "markdown",
   "source": "# 边缘检测",
   "id": "c302556bc99a0042"
  },
  {
   "metadata": {
    "ExecuteTime": {
     "end_time": "2025-08-14T10:43:10.890488Z",
     "start_time": "2025-08-14T10:43:10.882501Z"
    }
   },
   "cell_type": "code",
   "source": [
    "X = torch.ones(6,8)\n",
    "X[:, 2:6] = 0\n",
    "X"
   ],
   "id": "12922764308cfa44",
   "outputs": [
    {
     "data": {
      "text/plain": [
       "tensor([[1., 1., 0., 0., 0., 0., 1., 1.],\n",
       "        [1., 1., 0., 0., 0., 0., 1., 1.],\n",
       "        [1., 1., 0., 0., 0., 0., 1., 1.],\n",
       "        [1., 1., 0., 0., 0., 0., 1., 1.],\n",
       "        [1., 1., 0., 0., 0., 0., 1., 1.],\n",
       "        [1., 1., 0., 0., 0., 0., 1., 1.]])"
      ]
     },
     "execution_count": 12,
     "metadata": {},
     "output_type": "execute_result"
    }
   ],
   "execution_count": 12
  },
  {
   "metadata": {
    "ExecuteTime": {
     "end_time": "2025-08-14T10:43:11.687706Z",
     "start_time": "2025-08-14T10:43:11.673712Z"
    }
   },
   "cell_type": "code",
   "source": [
    "# 这个卷积核通过计算相邻元素的差值来检测边缘\n",
    "# 如果两个元素相等，则输出0；如果不等，则输出非零值\n",
    "# 仅能检测垂直边缘\n",
    "K = torch.tensor(\n",
    "    [\n",
    "        [1.0, -1.0]\n",
    "    ]\n",
    ")\n",
    "\n",
    "Y = traintools.corr2d(X, K)\n",
    "Y"
   ],
   "id": "cbbcf5a35e7fe7cb",
   "outputs": [
    {
     "data": {
      "text/plain": [
       "tensor([[ 0.,  1.,  0.,  0.,  0., -1.,  0.],\n",
       "        [ 0.,  1.,  0.,  0.,  0., -1.,  0.],\n",
       "        [ 0.,  1.,  0.,  0.,  0., -1.,  0.],\n",
       "        [ 0.,  1.,  0.,  0.,  0., -1.,  0.],\n",
       "        [ 0.,  1.,  0.,  0.,  0., -1.,  0.],\n",
       "        [ 0.,  1.,  0.,  0.,  0., -1.,  0.]])"
      ]
     },
     "execution_count": 13,
     "metadata": {},
     "output_type": "execute_result"
    }
   ],
   "execution_count": 13
  },
  {
   "metadata": {
    "ExecuteTime": {
     "end_time": "2025-08-14T11:34:40.508327Z",
     "start_time": "2025-08-14T11:34:40.496651Z"
    }
   },
   "cell_type": "code",
   "source": [
    "conv2d  = nn.Conv2d(\n",
    "    in_channels=1,\n",
    "    out_channels=1,\n",
    "    kernel_size=(1, 2),\n",
    "    bias=False\n",
    ")\n",
    "X = X.reshape((1, 1, 6, 8))\n",
    "Y = Y.reshape((1, 1, 6, 7))\n",
    "X,Y"
   ],
   "id": "b808d2b3c577a892",
   "outputs": [
    {
     "data": {
      "text/plain": [
       "(tensor([[[[1., 1., 0., 0., 0., 0., 1., 1.],\n",
       "           [1., 1., 0., 0., 0., 0., 1., 1.],\n",
       "           [1., 1., 0., 0., 0., 0., 1., 1.],\n",
       "           [1., 1., 0., 0., 0., 0., 1., 1.],\n",
       "           [1., 1., 0., 0., 0., 0., 1., 1.],\n",
       "           [1., 1., 0., 0., 0., 0., 1., 1.]]]]),\n",
       " tensor([[[[ 0.,  1.,  0.,  0.,  0., -1.,  0.],\n",
       "           [ 0.,  1.,  0.,  0.,  0., -1.,  0.],\n",
       "           [ 0.,  1.,  0.,  0.,  0., -1.,  0.],\n",
       "           [ 0.,  1.,  0.,  0.,  0., -1.,  0.],\n",
       "           [ 0.,  1.,  0.,  0.,  0., -1.,  0.],\n",
       "           [ 0.,  1.,  0.,  0.,  0., -1.,  0.]]]]))"
      ]
     },
     "execution_count": 21,
     "metadata": {},
     "output_type": "execute_result"
    }
   ],
   "execution_count": 21
  },
  {
   "metadata": {},
   "cell_type": "code",
   "outputs": [
    {
     "name": "stdout",
     "output_type": "stream",
     "text": [
      "epoch 2, loss 12.984\n",
      "weight: tensor([ 0.2900, -0.3908])\n",
      "grad: tensor([-8.5896, 16.1451])\n",
      "epoch 4, loss 2.236\n",
      "weight: tensor([ 0.6976, -0.7621])\n",
      "grad: tensor([-2.6479,  7.4834])\n",
      "epoch 6, loss 0.399\n",
      "weight: tensor([ 0.8687, -0.9100])\n",
      "grad: tensor([-0.5275,  3.6223])\n",
      "epoch 8, loss 0.077\n",
      "weight: tensor([ 0.9415, -0.9679])\n",
      "grad: tensor([0.1404, 1.8402])\n",
      "epoch 10, loss 0.017\n",
      "weight: tensor([ 0.9730, -0.9899])\n",
      "grad: tensor([0.2857, 0.9819])\n"
     ]
    }
   ],
   "execution_count": 19,
   "source": [
    "\n",
    "lr  = 3e-2\n",
    "\n",
    "for i in range(10):\n",
    "    Y_hat  = conv2d(X)\n",
    "    loss   = (Y_hat - Y).pow(2)\n",
    "    conv2d.zero_grad()\n",
    "    loss.sum().backward()\n",
    "\n",
    "    conv2d.weight.data -= lr * conv2d.weight.grad\n",
    "\n",
    "    if(i+1) % 2 == 0:\n",
    "        print(f'epoch {i+1}, loss {loss.sum():.3f}')\n",
    "        print(f'weight: {conv2d.weight.data.reshape(-1)}')\n",
    "        print(f'grad: {conv2d.weight.grad.reshape(-1)}')\n",
    "\n"
   ],
   "id": "ebaa5c6d5d326ed4"
  },
  {
   "metadata": {
    "ExecuteTime": {
     "end_time": "2025-08-14T11:22:58.728029Z",
     "start_time": "2025-08-14T11:22:58.717610Z"
    }
   },
   "cell_type": "code",
   "source": "conv2d.weight.data.reshape((1,2))",
   "id": "32cb5ec26eec6b78",
   "outputs": [
    {
     "data": {
      "text/plain": [
       "tensor([[ 0.9730, -0.9899]])"
      ]
     },
     "execution_count": 20,
     "metadata": {},
     "output_type": "execute_result"
    }
   ],
   "execution_count": 20
  },
  {
   "metadata": {},
   "cell_type": "markdown",
   "source": [
    "卷积层，又称特征映射，可以视为一个输入映射到下一层的空间维度的转换器\n",
    "\n",
    "感受野是指前向传播期间可能影响x计算的所有元素\n",
    "\n",
    "卷积核的大小通常为奇数，可以方便填充时左右对称上下对称\n"
   ],
   "id": "f3eae678605ab11d"
  },
  {
   "metadata": {
    "ExecuteTime": {
     "end_time": "2025-08-14T16:16:56.426640Z",
     "start_time": "2025-08-14T16:16:56.401483Z"
    }
   },
   "cell_type": "code",
   "source": [
    "import numpy as np\n",
    "\n",
    "\n",
    "def corr2d_multi_in(X, K):\n",
    "    # X: (in_channels, height, width)\n",
    "    # K: (in_channels, kernel_height, kernel_width)\n",
    "    return sum(traintools.corr2d(x, k) for x, k in zip(X, K))\n",
    "\n",
    "X = torch.tensor([[[0.0, 1.0, 2.0], [3.0, 4.0, 5.0], [6.0, 7.0, 8.0]],\n",
    "               [[1.0, 2.0, 3.0], [4.0, 5.0, 6.0], [7.0, 8.0, 9.0]]])\n",
    "K = torch.tensor([[[0.0, 1.0], [2.0, 3.0]], [[1.0, 2.0], [3.0, 4.0]]])\n",
    "\n",
    "corr2d_multi_in(X, K)"
   ],
   "id": "4726b7ca23951acc",
   "outputs": [
    {
     "data": {
      "text/plain": [
       "tensor([[ 56.,  72.],\n",
       "        [104., 120.]])"
      ]
     },
     "execution_count": 29,
     "metadata": {},
     "output_type": "execute_result"
    }
   ],
   "execution_count": 29
  },
  {
   "metadata": {
    "ExecuteTime": {
     "end_time": "2025-08-14T16:16:56.945943Z",
     "start_time": "2025-08-14T16:16:56.933187Z"
    }
   },
   "cell_type": "code",
   "source": [
    "def corr2d_multi_in_out(X, K):\n",
    "    # X: (in_channels, height, width)\n",
    "    # K: (out_channels, in_channels, kernel_height, kernel_width)\n",
    "    return torch.stack(\n",
    "        [corr2d_multi_in(X, k) for k in K], dim=0\n",
    "    )"
   ],
   "id": "5fa133cc69d90d9e",
   "outputs": [],
   "execution_count": 30
  },
  {
   "metadata": {
    "ExecuteTime": {
     "end_time": "2025-08-14T16:16:57.451273Z",
     "start_time": "2025-08-14T16:16:57.444623Z"
    }
   },
   "cell_type": "code",
   "source": [
    "K = torch.stack((K,K+1,K+2), dim=0)\n",
    "K.shape"
   ],
   "id": "dadb71cb43dff0f1",
   "outputs": [
    {
     "data": {
      "text/plain": [
       "torch.Size([3, 2, 2, 2])"
      ]
     },
     "execution_count": 31,
     "metadata": {},
     "output_type": "execute_result"
    }
   ],
   "execution_count": 31
  },
  {
   "metadata": {
    "ExecuteTime": {
     "end_time": "2025-08-14T16:17:07.145886Z",
     "start_time": "2025-08-14T16:17:07.120389Z"
    }
   },
   "cell_type": "code",
   "source": "corr2d_multi_in_out(X, K)",
   "id": "b5cc3e3fa9dc4c91",
   "outputs": [
    {
     "data": {
      "text/plain": [
       "tensor([[[ 56.,  72.],\n",
       "         [104., 120.]],\n",
       "\n",
       "        [[ 76., 100.],\n",
       "         [148., 172.]],\n",
       "\n",
       "        [[ 96., 128.],\n",
       "         [192., 224.]]])"
      ]
     },
     "execution_count": 32,
     "metadata": {},
     "output_type": "execute_result"
    }
   ],
   "execution_count": 32
  },
  {
   "metadata": {},
   "cell_type": "markdown",
   "source": [
    "1*1卷积的唯一计算发生在通道上\n",
    "通常用于调整通道数和控制模型复杂性"
   ],
   "id": "ef658712c1569f6d"
  },
  {
   "metadata": {},
   "cell_type": "code",
   "outputs": [],
   "execution_count": null,
   "source": "",
   "id": "943a27f9f14af6f7"
  }
 ],
 "metadata": {
  "kernelspec": {
   "display_name": "Python 3",
   "language": "python",
   "name": "python3"
  },
  "language_info": {
   "codemirror_mode": {
    "name": "ipython",
    "version": 2
   },
   "file_extension": ".py",
   "mimetype": "text/x-python",
   "name": "python",
   "nbconvert_exporter": "python",
   "pygments_lexer": "ipython2",
   "version": "2.7.6"
  }
 },
 "nbformat": 4,
 "nbformat_minor": 5
}
