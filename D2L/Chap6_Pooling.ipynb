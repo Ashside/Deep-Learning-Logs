{
 "cells": [
  {
   "metadata": {},
   "cell_type": "markdown",
   "source": [
    "池化层\n",
    "- 降低卷积层对位置的敏感性\n",
    "    - 模糊了特征的精确位置\n",
    "- 降低对空间降采样表示的敏感性\n",
    "    - 池化层赋予了模型一定的平移不变性"
   ],
   "id": "ce158be2804dbece"
  },
  {
   "cell_type": "code",
   "id": "initial_id",
   "metadata": {
    "collapsed": true,
    "ExecuteTime": {
     "end_time": "2025-08-17T11:07:42.601063Z",
     "start_time": "2025-08-17T11:07:35.781909Z"
    }
   },
   "source": [
    "import torch\n",
    "import torch.nn as nn"
   ],
   "outputs": [],
   "execution_count": 2
  },
  {
   "metadata": {
    "ExecuteTime": {
     "end_time": "2025-08-17T11:07:42.632681Z",
     "start_time": "2025-08-17T11:07:42.616612Z"
    }
   },
   "cell_type": "code",
   "source": [
    "def pool2d(X,pool_size,mode='max'):\n",
    "    \"\"\"\n",
    "    池化层\n",
    "    :param X: 输入数据\n",
    "    :param pool_size: 池化窗口大小\n",
    "    :param mode: 池化方式，'max'或'avg'\n",
    "    :return: 池化后的数据\n",
    "    \"\"\"\n",
    "    p_h, p_w = pool_size\n",
    "\n",
    "    Y = torch.zeros((X.shape[0] - p_h + 1, X.shape[1] - p_w + 1))\n",
    "    for i in range(Y.shape[0]):\n",
    "        for j in range(Y.shape[1]):\n",
    "            if mode == 'max':\n",
    "                Y[i, j] = X[i:i + p_h, j:j + p_w].max()\n",
    "            elif mode == 'avg':\n",
    "                Y[i, j] = X[i:i + p_h, j:j + p_w].mean()\n",
    "            else:\n",
    "                raise ValueError(\"mode must be 'max' or 'avg'\")\n",
    "    return Y"
   ],
   "id": "52aed875dcd2e09d",
   "outputs": [],
   "execution_count": 3
  },
  {
   "metadata": {
    "ExecuteTime": {
     "end_time": "2025-08-17T11:07:42.772004Z",
     "start_time": "2025-08-17T11:07:42.679104Z"
    }
   },
   "cell_type": "code",
   "source": [
    "X = torch.arange(16,dtype=torch.float32).reshape(1,1,4,4)\n",
    "X"
   ],
   "id": "f0b723551d30e44f",
   "outputs": [
    {
     "data": {
      "text/plain": [
       "tensor([[[[ 0.,  1.,  2.,  3.],\n",
       "          [ 4.,  5.,  6.,  7.],\n",
       "          [ 8.,  9., 10., 11.],\n",
       "          [12., 13., 14., 15.]]]])"
      ]
     },
     "execution_count": 4,
     "metadata": {},
     "output_type": "execute_result"
    }
   ],
   "execution_count": 4
  },
  {
   "metadata": {
    "ExecuteTime": {
     "end_time": "2025-08-17T11:17:34.334316Z",
     "start_time": "2025-08-17T11:17:34.290746Z"
    }
   },
   "cell_type": "code",
   "source": [
    "pool  = nn.MaxPool2d(3)\n",
    "pool(X)"
   ],
   "id": "f2a1c3e67bfc53f0",
   "outputs": [
    {
     "data": {
      "text/plain": [
       "tensor([[[[10.]]]])"
      ]
     },
     "execution_count": 5,
     "metadata": {},
     "output_type": "execute_result"
    }
   ],
   "execution_count": 5
  },
  {
   "metadata": {
    "ExecuteTime": {
     "end_time": "2025-08-17T11:18:01.621229Z",
     "start_time": "2025-08-17T11:18:01.610153Z"
    }
   },
   "cell_type": "code",
   "source": [
    "pool = nn.MaxPool2d(3,padding=1,stride=2)\n",
    "pool(X)"
   ],
   "id": "ad49a8855bfa35f4",
   "outputs": [
    {
     "data": {
      "text/plain": [
       "tensor([[[[ 5.,  7.],\n",
       "          [13., 15.]]]])"
      ]
     },
     "execution_count": 7,
     "metadata": {},
     "output_type": "execute_result"
    }
   ],
   "execution_count": 7
  },
  {
   "metadata": {},
   "cell_type": "code",
   "outputs": [],
   "execution_count": null,
   "source": "",
   "id": "963dcb605be6c55a"
  }
 ],
 "metadata": {
  "kernelspec": {
   "display_name": "Python 3",
   "language": "python",
   "name": "python3"
  },
  "language_info": {
   "codemirror_mode": {
    "name": "ipython",
    "version": 2
   },
   "file_extension": ".py",
   "mimetype": "text/x-python",
   "name": "python",
   "nbconvert_exporter": "python",
   "pygments_lexer": "ipython2",
   "version": "2.7.6"
  }
 },
 "nbformat": 4,
 "nbformat_minor": 5
}
