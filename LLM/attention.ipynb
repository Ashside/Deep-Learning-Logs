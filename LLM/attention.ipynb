{
 "cells": [
  {
   "metadata": {
    "ExecuteTime": {
     "end_time": "2025-09-06T13:54:21.434170Z",
     "start_time": "2025-09-06T13:54:16.388380Z"
    }
   },
   "cell_type": "code",
   "source": [
    "import math\n",
    "\n",
    "import torch\n",
    "from torch import nn\n",
    "from torch import functional as F"
   ],
   "id": "8059e600f36a7931",
   "outputs": [],
   "execution_count": 1
  },
  {
   "cell_type": "code",
   "execution_count": null,
   "id": "initial_id",
   "metadata": {
    "collapsed": true
   },
   "outputs": [],
   "source": [
    "def attention(query,key,value,dropout = None):\n",
    "    \"\"\"\n",
    "\n",
    "    :param query: 每行是一个查询 n*m\n",
    "    :param key: 每行是一个键的词向量 k*m\n",
    "    :param value: k * 1\n",
    "    :param dropout:\n",
    "    :return:\n",
    "    \"\"\"\n",
    "    d_k = query.size(-1) # 获得key的维度\n",
    "    # 计算注意力得分\n",
    "    # 转置后，此处为 n*m  *  m*k  =  n*k\n",
    "    scores = torch.matmul(query,key.transpose(-2,-1)) / math.sqrt(d_k)\n",
    "\n",
    "\n",
    "    p_attn = torch.softmax(scores,dim=-1)\n",
    "\n",
    "    if dropout is not None:\n",
    "        p_attn = dropout(p_attn)\n",
    "\n",
    "    # 得到最终的注意力结果 n*k  *  k*1  =  n * 1\n",
    "    attn = torch.matmul(p_attn,value)\n",
    "    return attn,p_attn\n",
    "\n",
    "def gen_mask(max_seqlen):\n",
    "    mask = torch.full((1,max_seqlen,max_seqlen),float(\"-inf\"))\n",
    "    mask = torch.triu(mask,diagonal=1) #保留mask的上三角部分，diagonal设为1表示不包括主对角线\n",
    "    return mask\n",
    "\n",
    "def masked(scores:torch.Tensor,seqlen,max_seqlen):\n",
    "    mask = gen_mask(max_seqlen)\n",
    "    scores = scores + mask[:, :seqlen,:seqlen]\n",
    "    scores = torch.softmax(scores,dim=-1)\n",
    "    return scores\n"
   ]
  }
 ],
 "metadata": {
  "kernelspec": {
   "display_name": "Python 3",
   "language": "python",
   "name": "python3"
  },
  "language_info": {
   "codemirror_mode": {
    "name": "ipython",
    "version": 2
   },
   "file_extension": ".py",
   "mimetype": "text/x-python",
   "name": "python",
   "nbconvert_exporter": "python",
   "pygments_lexer": "ipython2",
   "version": "2.7.6"
  }
 },
 "nbformat": 4,
 "nbformat_minor": 5
}
