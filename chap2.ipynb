{
 "cells": [
  {
   "metadata": {
    "ExecuteTime": {
     "end_time": "2025-08-02T10:38:29.731280Z",
     "start_time": "2025-08-02T10:38:25.401648Z"
    }
   },
   "cell_type": "code",
   "source": "import torch",
   "id": "9c7c355202cfad09",
   "outputs": [],
   "execution_count": 2
  },
  {
   "metadata": {
    "ExecuteTime": {
     "end_time": "2025-08-02T10:38:29.798971Z",
     "start_time": "2025-08-02T10:38:29.753039Z"
    }
   },
   "cell_type": "code",
   "source": [
    "x = torch.arange(4.0)\n",
    "print(x)"
   ],
   "id": "65a6636d0943db04",
   "outputs": [
    {
     "name": "stdout",
     "output_type": "stream",
     "text": [
      "tensor([0., 1., 2., 3.])\n"
     ]
    }
   ],
   "execution_count": 3
  },
  {
   "metadata": {
    "ExecuteTime": {
     "end_time": "2025-08-02T10:39:05.860529Z",
     "start_time": "2025-08-02T10:39:05.855997Z"
    }
   },
   "cell_type": "code",
   "source": [
    "x.requires_grad_(True)\n",
    "x.grad"
   ],
   "id": "a8f6458aeb421495",
   "outputs": [],
   "execution_count": 5
  },
  {
   "metadata": {
    "ExecuteTime": {
     "end_time": "2025-08-02T10:40:48.971862Z",
     "start_time": "2025-08-02T10:40:48.965145Z"
    }
   },
   "cell_type": "code",
   "source": [
    "y = 2 * torch.dot(x,x)\n",
    "y"
   ],
   "id": "23c1a9c111e0b37b",
   "outputs": [
    {
     "data": {
      "text/plain": [
       "tensor(28., grad_fn=<MulBackward0>)"
      ]
     },
     "execution_count": 7,
     "metadata": {},
     "output_type": "execute_result"
    }
   ],
   "execution_count": 7
  },
  {
   "metadata": {
    "ExecuteTime": {
     "end_time": "2025-08-02T10:41:03.150241Z",
     "start_time": "2025-08-02T10:41:03.087763Z"
    }
   },
   "cell_type": "code",
   "source": [
    "y.backward()\n",
    "x.grad"
   ],
   "id": "4e480f51cb2ab089",
   "outputs": [
    {
     "data": {
      "text/plain": [
       "tensor([ 0.,  4.,  8., 12.])"
      ]
     },
     "execution_count": 8,
     "metadata": {},
     "output_type": "execute_result"
    }
   ],
   "execution_count": 8
  },
  {
   "metadata": {
    "ExecuteTime": {
     "end_time": "2025-08-02T10:41:47.033605Z",
     "start_time": "2025-08-02T10:41:47.012066Z"
    }
   },
   "cell_type": "code",
   "source": [
    "x.grad.zero_()\n",
    "y = x.sum()\n",
    "y.backward()\n",
    "x.grad"
   ],
   "id": "f1fe56a69a3c75ae",
   "outputs": [
    {
     "data": {
      "text/plain": [
       "tensor([1., 1., 1., 1.])"
      ]
     },
     "execution_count": 11,
     "metadata": {},
     "output_type": "execute_result"
    }
   ],
   "execution_count": 11
  },
  {
   "metadata": {
    "ExecuteTime": {
     "end_time": "2025-08-02T10:48:19.931209Z",
     "start_time": "2025-08-02T10:48:18.907682Z"
    }
   },
   "cell_type": "code",
   "source": [
    "x.grad.zero_()\n",
    "y = x*x\n",
    "y.backward(torch.ones_like(x)) #\n",
    "x.grad"
   ],
   "id": "b55d051cc4bc7f9",
   "outputs": [
    {
     "data": {
      "text/plain": [
       "tensor([0., 2., 4., 6.])"
      ]
     },
     "execution_count": 14,
     "metadata": {},
     "output_type": "execute_result"
    }
   ],
   "execution_count": 14
  },
  {
   "metadata": {
    "ExecuteTime": {
     "end_time": "2025-08-02T13:03:05.686568Z",
     "start_time": "2025-08-02T13:03:05.644127Z"
    }
   },
   "cell_type": "code",
   "source": [
    "x.grad.zero_()\n",
    "\n",
    "y = x * x\n",
    "\n",
    "u = y.detach().clone()\n",
    "\n",
    "# 将u 作为常数进行处理\n",
    "z = u*x\n",
    "\n",
    "z.sum().backward()\n",
    "x.grad # x.grad == u\n"
   ],
   "id": "809dc2fbfaa71084",
   "outputs": [
    {
     "data": {
      "text/plain": [
       "tensor([0., 1., 4., 9.])"
      ]
     },
     "execution_count": 15,
     "metadata": {},
     "output_type": "execute_result"
    }
   ],
   "execution_count": 15
  },
  {
   "metadata": {
    "ExecuteTime": {
     "end_time": "2025-08-02T13:04:55.697351Z",
     "start_time": "2025-08-02T13:04:55.690975Z"
    }
   },
   "cell_type": "code",
   "source": [
    "x.grad.zero_()\n",
    "y.sum().backward()\n",
    "x.grad # x.gram == 2 * x"
   ],
   "id": "ea86babed6d1951d",
   "outputs": [
    {
     "data": {
      "text/plain": [
       "tensor([0., 2., 4., 6.])"
      ]
     },
     "execution_count": 17,
     "metadata": {},
     "output_type": "execute_result"
    }
   ],
   "execution_count": 17
  },
  {
   "metadata": {
    "ExecuteTime": {
     "end_time": "2025-08-02T13:13:49.064133Z",
     "start_time": "2025-08-02T13:13:49.056552Z"
    }
   },
   "cell_type": "code",
   "source": [
    "x.grad.zero_()\n",
    "u = x*x*x\n",
    "\n",
    "#\n",
    "u.sum().backward()\n",
    "x.grad # x.grad == 3 * x * x"
   ],
   "id": "48d0224e45c1d796",
   "outputs": [
    {
     "data": {
      "text/plain": [
       "tensor([ 0.,  3., 12., 27.])"
      ]
     },
     "execution_count": 18,
     "metadata": {},
     "output_type": "execute_result"
    }
   ],
   "execution_count": 18
  },
  {
   "metadata": {
    "ExecuteTime": {
     "end_time": "2025-08-02T15:36:33.398493Z",
     "start_time": "2025-08-02T15:36:33.348378Z"
    }
   },
   "cell_type": "code",
   "source": [
    "def f(a):\n",
    "    b = a * 2\n",
    "    while b.norm() < 1000:\n",
    "        b = b * 2\n",
    "    if b.sum() > 0:\n",
    "        c = b\n",
    "    else:\n",
    "        c = 100 * b\n",
    "    return c\n",
    "\n",
    "a = torch.randn(size=(), requires_grad=True)\n",
    "d = f(a)\n",
    "d.backward()"
   ],
   "id": "b0d5fd6e79c629f6",
   "outputs": [],
   "execution_count": 19
  },
  {
   "metadata": {
    "ExecuteTime": {
     "end_time": "2025-08-02T15:36:42.661719Z",
     "start_time": "2025-08-02T15:36:42.654971Z"
    }
   },
   "cell_type": "code",
   "source": "d",
   "id": "57bd772ed446381d",
   "outputs": [
    {
     "data": {
      "text/plain": [
       "tensor(1658.4838, grad_fn=<MulBackward0>)"
      ]
     },
     "execution_count": 22,
     "metadata": {},
     "output_type": "execute_result"
    }
   ],
   "execution_count": 22
  },
  {
   "metadata": {
    "ExecuteTime": {
     "end_time": "2025-08-02T15:36:48.743111Z",
     "start_time": "2025-08-02T15:36:48.736460Z"
    }
   },
   "cell_type": "code",
   "source": "a",
   "id": "5e62c9dff5edf2d0",
   "outputs": [
    {
     "data": {
      "text/plain": [
       "tensor(0.2025, requires_grad=True)"
      ]
     },
     "execution_count": 23,
     "metadata": {},
     "output_type": "execute_result"
    }
   ],
   "execution_count": 23
  },
  {
   "metadata": {
    "ExecuteTime": {
     "end_time": "2025-08-02T15:37:10.901063Z",
     "start_time": "2025-08-02T15:37:10.893754Z"
    }
   },
   "cell_type": "code",
   "source": "a.grad",
   "id": "42ed9563b8d8432c",
   "outputs": [
    {
     "data": {
      "text/plain": [
       "tensor(8192.)"
      ]
     },
     "execution_count": 26,
     "metadata": {},
     "output_type": "execute_result"
    }
   ],
   "execution_count": 26
  },
  {
   "metadata": {},
   "cell_type": "code",
   "outputs": [],
   "execution_count": null,
   "source": [
    "from torch import save\n",
    "#matplotlib inline\n",
    "import random\n",
    "import torch\n",
    "\n",
    "@save\n",
    "def syn_data(w,b,num_examples):\n",
    "    x  = torch.normal(0,1,(num_examples,w))\n",
    "    y = torch.matmul(x,w) + b\n",
    "    y += torch.normal(0,0.01,y.shape)\n",
    "    return x,y.reshape((-1,1))\n",
    "\n"
   ],
   "id": "f2385b455de1c046"
  }
 ],
 "metadata": {
  "kernelspec": {
   "display_name": "Python 3",
   "language": "python",
   "name": "python3"
  },
  "language_info": {
   "codemirror_mode": {
    "name": "ipython",
    "version": 2
   },
   "file_extension": ".py",
   "mimetype": "text/x-python",
   "name": "python",
   "nbconvert_exporter": "python",
   "pygments_lexer": "ipython2",
   "version": "2.7.6"
  }
 },
 "nbformat": 4,
 "nbformat_minor": 5
}
